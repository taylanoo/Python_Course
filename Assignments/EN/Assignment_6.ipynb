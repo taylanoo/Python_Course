{
 "cells": [
  {
   "cell_type": "markdown",
   "metadata": {},
   "source": [
    "<img src=\"https://communications.univie.ac.at/fileadmin/_processed_/csm_Uni_Logo_2016_2f47aacf37.jpg\" \n",
    "     alt=\"Logo Universität Wien\" \n",
    "     width=\"200\"/>\n",
    "\n",
    "# Practical Machine Learning for Natural Language Processing - 2023 SS  \n",
    "\n",
    "### Assigment 2 - Generators and Classes   \n",
    "\n",
    "In this assigment we are going to play with generators and instances/classes - structures that retain state.  "
   ]
  },
  {
   "cell_type": "markdown",
   "metadata": {},
   "source": [
    "***"
   ]
  },
  {
   "cell_type": "markdown",
   "metadata": {},
   "source": [
    "### 1. Alea Iacta Est  \n",
    "\n",
    "(a) Using [generator functions](https://github.com/rsouza/Python_Course/blob/master/Notebooks/Python_Basic/03_Functions.ipynb), create an object that emulates an eight-sided dice (1-8) that is biased, such that the probability of this generator function returning a certain value is proportional to the value itself (i.e. the face \"6\" is 3 times more likely to come out than face \"2\");  \n",
    "\n",
    " <img src=\"https://cdn11.bigcommerce.com/s-70184/images/stencil/608x608/products/532/7428/d8-dice-blue__64321.1664335674.jpg\" alt=\"8-Dice\" style=\"width:250px;height:300px;\"> \n",
    "\n",
    "(b) Using [Matplotlib](https://matplotlib.org/) plt.plot or plt.hist commands, show graphically the result of 10000 casts of the die;  \n",
    "\n",
    "(c) Modify this generator function so that it terminates automatically when all possible values (1,2,3,4,5,6,7,8) have been cast at least once. In this case, it will return the total absolute time that has elapsed since the first iteration.  (hint: a function can have both **return** and **yield** commands)  "
   ]
  },
  {
   "cell_type": "code",
   "execution_count": 1,
   "metadata": {},
   "outputs": [
    {
     "name": "stdout",
     "output_type": "stream",
     "text": [
      "7\n",
      "7\n",
      "7\n",
      "6\n",
      "1\n",
      "8\n",
      "6\n",
      "7\n",
      "2\n",
      "8\n"
     ]
    }
   ],
   "source": [
    "# a) \n",
    "#importation \n",
    "import random\n",
    "\n",
    "def biased_dice_roll():\n",
    "    #defininanion of the distributions\n",
    "    probability_distribution = [1, 2, 3, 4, 5, 6, 7, 8]\n",
    "    cumulative_distribution = []\n",
    "    total = 0\n",
    "\n",
    "    #calculation of the cumulative probability \n",
    "    for prob in probability_distribution:\n",
    "        total += prob\n",
    "        cumulative_distribution.append(total)\n",
    "\n",
    "    while True:\n",
    "        #random number in range \n",
    "        rand_num = random.randint(1, total)\n",
    "\n",
    "        #index of the rand_num\n",
    "        for i, c_prob in enumerate(cumulative_distribution):\n",
    "            if rand_num <= c_prob:\n",
    "                yield i + 1\n",
    "                break\n",
    "\n",
    "biased_dice_gen = biased_dice_roll()\n",
    "\n",
    "#roll the dice\n",
    "for _ in range(10):\n",
    "    print(next(biased_dice_gen))\n"
   ]
  },
  {
   "cell_type": "code",
   "execution_count": 2,
   "metadata": {},
   "outputs": [
    {
     "data": {
      "image/png": "[encoded data removed]",
      "text/plain": [
       "<Figure size 432x288 with 1 Axes>"
      ]
     },
     "metadata": {
      "needs_background": "light"
     },
     "output_type": "display_data"
    }
   ],
   "source": [
    "# b)\n",
    "\n",
    "#importation \n",
    "import matplotlib.pyplot as plt\n",
    "\n",
    "#rolling \n",
    "dice_rolls = [next(biased_dice_gen) for _ in range(10000)]\n",
    "\n",
    "#viz\n",
    "plt.hist(dice_rolls, bins=range(1, 10), align='left', rwidth=0.8)\n",
    "plt.xlabel('Dice')\n",
    "plt.ylabel('Frequency')\n",
    "plt.title('Histogram of 10000 Dice Rolls That Are Biased')\n",
    "\n",
    "plt.show()\n"
   ]
  },
  {
   "cell_type": "code",
   "execution_count": 3,
   "metadata": {},
   "outputs": [
    {
     "name": "stdout",
     "output_type": "stream",
     "text": [
      "Dice rolls: [6, 2, 4, 8, 4, 8, 8, 6, 7, 7, 1, 8, 6, 7, 7, 5, 8, 8, 3]\n",
      "Total elapsed time: 4.1961669921875e-05 seconds\n"
     ]
    }
   ],
   "source": [
    "# c)\n",
    "\n",
    "#importation\n",
    "import time\n",
    "\n",
    "def biased_dice_time():\n",
    "    probability_distribution = [1, 2, 3, 4, 5, 6, 7, 8]\n",
    "    cumulative_distribution = []\n",
    "    total = 0\n",
    "    start_time = None\n",
    "    cast_faces = set()\n",
    "\n",
    "    for prob in probability_distribution:\n",
    "        total += prob\n",
    "        cumulative_distribution.append(total)\n",
    "\n",
    "    while True:\n",
    "        if not start_time:\n",
    "            start_time = time.time()\n",
    "\n",
    "        rand_num = random.randint(1, total)\n",
    "        dice_face = None\n",
    "\n",
    "        for i, c_prob in enumerate(cumulative_distribution):\n",
    "            if rand_num <= c_prob:\n",
    "                dice_face = i + 1\n",
    "                cast_faces.add(dice_face)\n",
    "                yield dice_face\n",
    "                break\n",
    "\n",
    "        if len(cast_faces) == len(probability_distribution):\n",
    "            elapsed_time = time.time() - start_time\n",
    "            return elapsed_time\n",
    "\n",
    "biased_dice_gen_elapsed = biased_dice_time()\n",
    "\n",
    "dice_rolls_elapsed = []\n",
    "\n",
    "try:\n",
    "    while True:\n",
    "        dice_rolls_elapsed.append(next(biased_dice_gen_elapsed))\n",
    "except StopIteration as e:\n",
    "    elapsed_time = e.value\n",
    "\n",
    "print(\"Dice rolls:\", dice_rolls_elapsed)\n",
    "print(\"Total elapsed time:\", elapsed_time, \"seconds\")\n"
   ]
  },
  {
   "attachments": {},
   "cell_type": "markdown",
   "metadata": {},
   "source": [
    "### 2. A ticket to the first Class    \n",
    "\n",
    "+ Create a Class called \"Elevator\". Each instance of this class receives as parameters the number of floors in the building and starts the elevator on the lowest floor.  \n",
    "+ This Class should have methods and properties to allow the elevator to:\n",
    "<br></br>\n",
    "    + Receive a call - user(s) press a button to go to specific floor(s);  \n",
    "    + Receive a floor as a destination - when users enter the elevator, each one may press a button to choose destination floor;  \n",
    "    + Store and inform which floor the elevator is at each moment(consider that trips for consecutive floors takes 5 seconds, and stopping takes 10 seconds);  \n",
    "    + Store and inform which users are in the elevator;  \n",
    "    + Store and inform the sequence of floors yet to be visited;  \n",
    "    + Store the number of times the elevator stopped in each floor (passing through the floor without \"stopping\" on the floor does not count);  \n",
    "    + Refuses commands to go to inexistent floors.  \n",
    "<br></br>\n",
    "+ Simulate the behavior of the elevator serving ten users, each one calling from a random floor, and chosing a random destination floor.   \n",
    "+ Graphically illustrate the current elevator position for the requested simulation.   \n",
    "+ (BONUS) Create a smart building simulator, controlling calls made to n > 1 elevators and routing elevator properly.  "
   ]
  },
  {
   "cell_type": "code",
   "execution_count": 4,
   "metadata": {},
   "outputs": [],
   "source": [
    "#2 definitions \n",
    "class BuildingElevator:\n",
    "    def __init__(self, number_of_floors):\n",
    "        self.total_floors = number_of_floors\n",
    "        self.current_floor_of_elevator = 1\n",
    "        self.pending_calls = []\n",
    "        self.user_destinations = []\n",
    "        self.times_stopped = [0] * number_of_floors\n",
    "        self.passengers = []\n",
    "\n",
    "    def call_elevator(self, floor_number):\n",
    "        if 1 <= floor_number <= self.total_floors:\n",
    "            self.pending_calls.append(floor_number)\n",
    "        else:\n",
    "            print(f\"Floor {floor_number} does not exist\")\n",
    "\n",
    "    def enter_passenger(self, passenger, destination_floor):\n",
    "        if 1 <= destination_floor <= self.total_floors:\n",
    "            self.passengers.append(passenger)\n",
    "            self.user_destinations.append(destination_floor)\n",
    "        else:\n",
    "            print(f\"Floor {destination_floor} does not exist\")\n",
    "\n",
    "    def move_elevator(self):\n",
    "        while self.pending_calls or self.user_destinations:\n",
    "            if self.pending_calls:\n",
    "                target_floor = self.pending_calls.pop(0)\n",
    "                self.times_stopped[target_floor - 1] += 1\n",
    "                self.current_floor_of_elevator = target_floor\n",
    "                #10 seconds of stopping\n",
    "                #time.sleep(10)\n",
    "\n",
    "            if self.user_destinations:\n",
    "                target_floor = self.user_destinations.pop(0)\n",
    "                self.times_stopped[target_floor - 1] += 1\n",
    "                self.current_floor_of_elevator = target_floor\n",
    "                #5 seconds of moving\n",
    "                #time.sleep(5)\n",
    "\n"
   ]
  },
  {
   "cell_type": "code",
   "execution_count": 13,
   "metadata": {},
   "outputs": [
    {
     "name": "stdout",
     "output_type": "stream",
     "text": [
      "Final elevator position: 1\n"
     ]
    },
    {
     "data": {
      "image/png": "[encoded data removed]",
      "text/plain": [
       "<Figure size 432x288 with 1 Axes>"
      ]
     },
     "metadata": {
      "needs_background": "light"
     },
     "output_type": "display_data"
    }
   ],
   "source": [
    "#application\n",
    "building_elevator = BuildingElevator(20)\n",
    "\n",
    "for user in range(10):\n",
    "    random_call_floor = random.randint(1, 20)\n",
    "    building_elevator.call_elevator(random_call_floor)\n",
    "    random_destination_floor = random.randint(1, 20)\n",
    "    building_elevator.enter_passenger(user, random_destination_floor)\n",
    "\n",
    "building_elevator.move_elevator()\n",
    "\n",
    "print(f\"Final elevator position: {building_elevator.current_floor_of_elevator}\")\n",
    "\n",
    "plt.bar(building_elevator.current_floor_of_elevator, 1, width=0.4)\n",
    "plt.xlim(0, 21)\n",
    "plt.ylim(0, 1)\n",
    "plt.xlabel('Floor')\n",
    "plt.ylabel('Elevator')\n",
    "plt.title('Current-Position')\n",
    "plt.grid(True)\n",
    "plt.show()"
   ]
  },
  {
   "cell_type": "code",
   "execution_count": null,
   "metadata": {},
   "outputs": [],
   "source": []
  }
 ],
 "metadata": {
  "kernelspec": {
   "display_name": "base",
   "language": "python",
   "name": "python3"
  },
  "language_info": {
   "codemirror_mode": {
    "name": "ipython",
    "version": 3
   },
   "file_extension": ".py",
   "mimetype": "text/x-python",
   "name": "python",
   "nbconvert_exporter": "python",
   "pygments_lexer": "ipython3",
   "version": "3.9.7"
  },
  "vscode": {
   "interpreter": {
    "hash": "5379e5ad0d201b20f1a556704863e2a8410beb8053c700b76a1d020971bf7a8e"
   }
  }
 },
 "nbformat": 4,
 "nbformat_minor": 4
}
